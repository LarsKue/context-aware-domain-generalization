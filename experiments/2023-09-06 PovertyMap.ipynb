{
 "cells": [
  {
   "cell_type": "code",
   "execution_count": 1,
   "id": "initial_id",
   "metadata": {
    "collapsed": true,
    "ExecuteTime": {
     "end_time": "2023-09-07T16:37:02.132863025Z",
     "start_time": "2023-09-07T16:36:58.987587391Z"
    }
   },
   "source": [
    "from adaptive_dg.models.regression import ResNetRegression"
   ],
   "outputs": []
  },
  {
   "cell_type": "code",
   "execution_count": 2,
   "source": [
    "ResNetRegression.hparams_type.required_parameters()"
   ],
   "metadata": {
    "collapsed": false,
    "ExecuteTime": {
     "end_time": "2023-09-07T16:37:02.149385851Z",
     "start_time": "2023-09-07T16:37:02.138636864Z"
    }
   },
   "id": "e98b2575223a6be7",
   "outputs": []
  },
  {
   "cell_type": "code",
   "execution_count": 3,
   "source": [
    "hparams = dict(\n",
    "    max_epochs=100,\n",
    "    batch_size=16,\n",
    "    set_size=1,\n",
    "    dataset=\"PovertyMapCountry\",\n",
    "    id_domains=list(map(str, range(0, 17))),\n",
    "    ood_domains=list(map(str, range(17, 22))),\n",
    ")"
   ],
   "metadata": {
    "collapsed": false,
    "ExecuteTime": {
     "end_time": "2023-09-07T16:37:02.150175466Z",
     "start_time": "2023-09-07T16:37:02.143767402Z"
    }
   },
   "id": "732d8b095d8b6b4d",
   "outputs": []
  },
  {
   "cell_type": "code",
   "execution_count": 4,
   "source": [
    "model = ResNetRegression(hparams)"
   ],
   "metadata": {
    "collapsed": false,
    "ExecuteTime": {
     "end_time": "2023-09-07T16:37:04.782784561Z",
     "start_time": "2023-09-07T16:37:02.212301392Z"
    }
   },
   "id": "13eb4f99aa9a0efc",
   "outputs": []
  },
  {
   "cell_type": "code",
   "execution_count": 5,
   "source": [
    "model.fit()"
   ],
   "metadata": {
    "collapsed": false,
    "ExecuteTime": {
     "end_time": "2023-09-07T16:37:07.061814429Z",
     "start_time": "2023-09-07T16:37:04.752601688Z"
    }
   },
   "id": "d4e33c17dcf625a",
   "outputs": []
  },
  {
   "cell_type": "code",
   "execution_count": null,
   "source": [],
   "metadata": {
    "collapsed": false,
    "ExecuteTime": {
     "start_time": "2023-09-07T16:37:07.065257593Z"
    }
   },
   "id": "8586847ddba4986c",
   "outputs": []
  }
 ],
 "metadata": {
  "kernelspec": {
   "display_name": "Python 3",
   "language": "python",
   "name": "python3"
  },
  "language_info": {
   "codemirror_mode": {
    "name": "ipython",
    "version": 2
   },
   "file_extension": ".py",
   "mimetype": "text/x-python",
   "name": "python",
   "nbconvert_exporter": "python",
   "pygments_lexer": "ipython2",
   "version": "2.7.6"
  }
 },
 "nbformat": 4,
 "nbformat_minor": 5
}
