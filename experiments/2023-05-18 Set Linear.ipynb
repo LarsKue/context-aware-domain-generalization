{
 "cells": [
  {
   "cell_type": "code",
   "execution_count": 1,
   "metadata": {
    "collapsed": true,
    "ExecuteTime": {
     "end_time": "2023-05-24T14:23:24.620375285Z",
     "start_time": "2023-05-24T14:23:22.137971789Z"
    }
   },
   "outputs": [],
   "source": [
    "import torch\n",
    "import torch.nn as nn\n",
    "import torch.nn.functional as F\n",
    "from torch.utils.data import DataLoader, Dataset, TensorDataset\n",
    "\n",
    "import matplotlib.pyplot as plt\n",
    "\n",
    "from tqdm.notebook import tqdm\n",
    "\n",
    "import lightning_trainable.metrics as M\n",
    "\n",
    "from adaptive_dg.models import InvariantLinear, MultiheadInvariantLinear"
   ]
  },
  {
   "cell_type": "code",
   "execution_count": 2,
   "outputs": [],
   "source": [
    "torch.set_printoptions(precision=2)"
   ],
   "metadata": {
    "collapsed": false,
    "ExecuteTime": {
     "end_time": "2023-05-24T14:23:24.626038681Z",
     "start_time": "2023-05-24T14:23:24.623114244Z"
    }
   }
  },
  {
   "cell_type": "code",
   "execution_count": 3,
   "outputs": [],
   "source": [
    "class SetDataset(Dataset):\n",
    "    def __init__(self, set_data: torch.Tensor, set_labels: torch.Tensor, set_size: int):\n",
    "        self.set_data = set_data\n",
    "        self.set_labels = set_labels\n",
    "        self.set_size = set_size\n",
    "\n",
    "    def __len__(self):\n",
    "        return len(self.set_data)\n",
    "\n",
    "    def __getitem__(self, item):\n",
    "        data = self.set_data[item]\n",
    "        label = self.set_labels[item]\n",
    "        set_data = self.set_data[torch.all(self.set_labels == label, dim=-1)]\n",
    "        set_data = set_data[torch.randperm(len(set_data))[:self.set_size]]\n",
    "\n",
    "        return data, set_data, label"
   ],
   "metadata": {
    "collapsed": false,
    "ExecuteTime": {
     "end_time": "2023-05-24T14:23:24.631853051Z",
     "start_time": "2023-05-24T14:23:24.628775998Z"
    }
   }
  },
  {
   "cell_type": "code",
   "execution_count": 4,
   "outputs": [],
   "source": [
    "set_size = 1024\n",
    "set_means = [10, 10]\n",
    "set_stds = [0.5, 1]\n",
    "\n",
    "data = []\n",
    "labels = []\n",
    "for i, (mean, std) in enumerate(zip(set_means, set_stds)):\n",
    "    set_data = torch.randn(10_000, 1) * std + mean\n",
    "    set_label = F.one_hot(torch.tensor(i), num_classes=len(set_means)).repeat(10_000, 1)\n",
    "    data.append(set_data)\n",
    "    labels.append(set_label)\n",
    "\n",
    "data = torch.cat(data)\n",
    "labels = torch.cat(labels)"
   ],
   "metadata": {
    "collapsed": false,
    "ExecuteTime": {
     "end_time": "2023-05-24T14:23:24.638096935Z",
     "start_time": "2023-05-24T14:23:24.633618638Z"
    }
   }
  },
  {
   "cell_type": "code",
   "execution_count": 5,
   "outputs": [],
   "source": [
    "class SetNetwork(nn.Module):\n",
    "    def __init__(self):\n",
    "        super().__init__()\n",
    "        self.set_network = nn.Sequential(\n",
    "            nn.Linear(1, 16),\n",
    "            nn.ReLU(),\n",
    "            nn.Linear(16, 32),\n",
    "            nn.ReLU(),\n",
    "            MultiheadInvariantLinear(num_heads=16, in_shape=(set_size, 32), out_shape=(32, 64)),\n",
    "            nn.ReLU(),\n",
    "            nn.Linear(64, 128),\n",
    "            nn.ReLU(),\n",
    "            nn.Linear(128, 256),\n",
    "            nn.ReLU(),\n",
    "            MultiheadInvariantLinear(num_heads=16, in_shape=(32, 256), out_shape=(16, 128)),\n",
    "            nn.ReLU(),\n",
    "            nn.Linear(128, 64),\n",
    "            nn.ReLU(),\n",
    "            nn.Linear(64, 32),\n",
    "            nn.ReLU(),\n",
    "            MultiheadInvariantLinear(num_heads=16, in_shape=(16, 32), out_shape=(1, 16)),\n",
    "        )\n",
    "\n",
    "        self.network = nn.Sequential(\n",
    "            nn.Linear(1 + 16, 16),\n",
    "            nn.ReLU(),\n",
    "            nn.Linear(16, 2),\n",
    "        )\n",
    "\n",
    "    def forward(self, x: torch.Tensor, xs: torch.Tensor):\n",
    "        embedding = self.set_network(xs)\n",
    "        embedding = torch.mean(embedding, dim=1)\n",
    "        return self.network(torch.cat([x, embedding], dim=1))"
   ],
   "metadata": {
    "collapsed": false,
    "ExecuteTime": {
     "end_time": "2023-05-24T14:23:24.686047540Z",
     "start_time": "2023-05-24T14:23:24.643582549Z"
    }
   }
  },
  {
   "cell_type": "code",
   "execution_count": 6,
   "outputs": [],
   "source": [
    "network = SetNetwork().cuda()"
   ],
   "metadata": {
    "collapsed": false,
    "ExecuteTime": {
     "end_time": "2023-05-24T14:23:25.170526854Z",
     "start_time": "2023-05-24T14:23:24.686273574Z"
    }
   }
  },
  {
   "cell_type": "code",
   "execution_count": 7,
   "outputs": [],
   "source": [
    "watch = network.set_network[-1]"
   ],
   "metadata": {
    "collapsed": false,
    "ExecuteTime": {
     "end_time": "2023-05-24T14:23:25.177011258Z",
     "start_time": "2023-05-24T14:23:25.172907001Z"
    }
   }
  },
  {
   "cell_type": "code",
   "execution_count": 8,
   "outputs": [],
   "source": [
    "dataset = SetDataset(data, labels, set_size=set_size)\n",
    "dataloader = DataLoader(dataset, batch_size=128, shuffle=True)"
   ],
   "metadata": {
    "collapsed": false,
    "ExecuteTime": {
     "end_time": "2023-05-24T14:23:25.183364677Z",
     "start_time": "2023-05-24T14:23:25.177235307Z"
    }
   }
  },
  {
   "cell_type": "code",
   "execution_count": 9,
   "outputs": [],
   "source": [
    "optimizer = torch.optim.Adam(network.parameters(), lr=1e-3)"
   ],
   "metadata": {
    "collapsed": false,
    "ExecuteTime": {
     "end_time": "2023-05-24T14:23:25.222317781Z",
     "start_time": "2023-05-24T14:23:25.222009974Z"
    }
   }
  },
  {
   "cell_type": "code",
   "execution_count": null,
   "outputs": [
    {
     "data": {
      "text/plain": "  0%|          | 0/1000 [00:00<?, ?it/s]",
      "application/vnd.jupyter.widget-view+json": {
       "version_major": 2,
       "version_minor": 0,
       "model_id": "70b15a0836ec4c30833b8dcd74aaca78"
      }
     },
     "metadata": {},
     "output_type": "display_data"
    },
    {
     "name": "stdout",
     "output_type": "stream",
     "text": [
      "Logits: tensor([0.06, 0.07], grad_fn=<SelectBackward0>), Cross Entropy: 0.69, Accuracy: 0.5750cy: 0.51"
     ]
    }
   ],
   "source": [
    "weights = []\n",
    "grads = []\n",
    "initial_weight = list(watch.parameters())[0].clone().detach()\n",
    "\n",
    "for epoch in tqdm(range(1000)):\n",
    "    weights.append(list(watch.parameters())[0].clone().detach())\n",
    "\n",
    "    for batch in dataloader:\n",
    "        optimizer.zero_grad()\n",
    "\n",
    "        batch_data, batch_set_data, batch_labels = batch\n",
    "\n",
    "        logits = network(batch_data.cuda(), batch_set_data.cuda()).cpu()\n",
    "\n",
    "        cross_entropy = F.cross_entropy(logits, batch_labels.float())\n",
    "        accuracy = M.accuracy(logits, batch_labels.float())\n",
    "        print(f\"\\rLogits: {logits[0]}, Cross Entropy: {cross_entropy.item():.02f}, Accuracy: {accuracy.item():.02f}\", end=\"\")\n",
    "\n",
    "        cross_entropy.backward()\n",
    "        optimizer.step()\n",
    "\n",
    "    grads.append(list(watch.parameters())[0].grad.clone().detach())"
   ],
   "metadata": {
    "collapsed": false,
    "is_executing": true,
    "ExecuteTime": {
     "start_time": "2023-05-24T14:23:25.222507486Z"
    }
   }
  },
  {
   "cell_type": "code",
   "execution_count": null,
   "outputs": [],
   "source": [
    "weights = torch.stack(weights)\n",
    "\n",
    "torch.allclose(weights[-1], initial_weight)"
   ],
   "metadata": {
    "collapsed": false,
    "is_executing": true
   }
  },
  {
   "cell_type": "code",
   "execution_count": null,
   "outputs": [],
   "source": [
    "grads = torch.stack(grads)\n",
    "\n",
    "torch.allclose(grads, torch.zeros_like(grads))"
   ],
   "metadata": {
    "collapsed": false,
    "is_executing": true
   }
  },
  {
   "cell_type": "code",
   "execution_count": null,
   "outputs": [],
   "source": [
    "grads.mean()"
   ],
   "metadata": {
    "collapsed": false,
    "is_executing": true
   }
  },
  {
   "cell_type": "code",
   "execution_count": null,
   "outputs": [],
   "source": [
    "for i in range(weights.shape[1]):\n",
    "    for j in range(weights.shape[2]):\n",
    "        plt.plot(weights[:, i, j].detach().numpy())"
   ],
   "metadata": {
    "collapsed": false,
    "is_executing": true
   }
  },
  {
   "cell_type": "code",
   "execution_count": null,
   "outputs": [],
   "source": [],
   "metadata": {
    "collapsed": false,
    "is_executing": true
   }
  }
 ],
 "metadata": {
  "kernelspec": {
   "display_name": "Python 3",
   "language": "python",
   "name": "python3"
  },
  "language_info": {
   "codemirror_mode": {
    "name": "ipython",
    "version": 2
   },
   "file_extension": ".py",
   "mimetype": "text/x-python",
   "name": "python",
   "nbconvert_exporter": "python",
   "pygments_lexer": "ipython2",
   "version": "2.7.6"
  }
 },
 "nbformat": 4,
 "nbformat_minor": 0
}
