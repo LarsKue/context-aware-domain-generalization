{
 "cells": [
  {
   "cell_type": "code",
   "execution_count": 1,
   "id": "initial_id",
   "metadata": {
    "collapsed": true,
    "ExecuteTime": {
     "end_time": "2023-12-01T17:44:07.497276949Z",
     "start_time": "2023-12-01T17:44:03.239899736Z"
    }
   },
   "source": [
    "from adaptive_dg.models import SimpleModel"
   ],
   "outputs": []
  },
  {
   "cell_type": "code",
   "execution_count": 2,
   "source": [
    "hparams = dict(\n",
    "    dataset=\"PovertyMapCountry\",\n",
    "    id_domains=[str(i) for i in range(16)],\n",
    "    ood_domains=[str(i) for i in range(16, 22)],\n",
    "    max_epochs=100,\n",
    "    batch_size=16,\n",
    "    set_size=16,\n",
    "    accumulate_batches=16,\n",
    "    gradient_clip=1.0,\n",
    "    augment=False,\n",
    "    feature_extractor=dict(\n",
    "        name=\"resnet50\",\n",
    "        features=256,\n",
    "        frozen=True,\n",
    "    ),\n",
    "    set_encoder=dict(\n",
    "        name=\"attention16\",\n",
    "        features=256,\n",
    "        frozen=False,\n",
    "    ),\n",
    "    fc=dict(\n",
    "        layer_widths=[256, 256, 512, 512, 256, 256, 128, 128, 64, 64],\n",
    "        activation=\"relu\",\n",
    "        dropout=0.25,\n",
    "    ),\n",
    "    num_workers=10,\n",
    "    accelerator=\"gpu\",\n",
    "    devices=-1,\n",
    "    lr_scheduler=dict(\n",
    "        name=\"OneCycleLR\",\n",
    "        kwargs=dict(\n",
    "            max_lr=1e-3,\n",
    "            div_factor=10,\n",
    "            final_div_factor=1e3,\n",
    "        )\n",
    "    )\n",
    ")"
   ],
   "metadata": {
    "collapsed": false,
    "ExecuteTime": {
     "end_time": "2023-12-01T17:44:07.500969821Z",
     "start_time": "2023-12-01T17:44:07.499555109Z"
    }
   },
   "id": "34d71979f43b0573",
   "outputs": []
  },
  {
   "cell_type": "code",
   "execution_count": 3,
   "source": [
    "model = SimpleModel(hparams)"
   ],
   "metadata": {
    "collapsed": false,
    "ExecuteTime": {
     "end_time": "2023-12-01T17:44:08.763628861Z",
     "start_time": "2023-12-01T17:44:07.502351691Z"
    }
   },
   "id": "b3f0a64116a601c2",
   "outputs": []
  },
  {
   "cell_type": "code",
   "execution_count": 4,
   "source": [
    "model"
   ],
   "metadata": {
    "collapsed": false,
    "ExecuteTime": {
     "end_time": "2023-12-01T17:44:08.772058482Z",
     "start_time": "2023-12-01T17:44:08.767977943Z"
    }
   },
   "id": "88c3563a52b043e",
   "outputs": []
  },
  {
   "cell_type": "code",
   "execution_count": null,
   "source": [
    "model.fit(trainer_kwargs=dict(log_every_n_steps=10))"
   ],
   "metadata": {
    "collapsed": false,
    "is_executing": true,
    "ExecuteTime": {
     "start_time": "2023-12-01T17:44:08.772375847Z"
    }
   },
   "id": "5b368c07368d2692",
   "outputs": []
  }
 ],
 "metadata": {
  "kernelspec": {
   "display_name": "Python 3",
   "language": "python",
   "name": "python3"
  },
  "language_info": {
   "codemirror_mode": {
    "name": "ipython",
    "version": 2
   },
   "file_extension": ".py",
   "mimetype": "text/x-python",
   "name": "python",
   "nbconvert_exporter": "python",
   "pygments_lexer": "ipython2",
   "version": "2.7.6"
  }
 },
 "nbformat": 4,
 "nbformat_minor": 5
}
