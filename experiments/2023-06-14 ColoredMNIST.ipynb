{
 "cells": [
  {
   "cell_type": "code",
   "execution_count": 1,
   "metadata": {
    "collapsed": true,
    "ExecuteTime": {
     "end_time": "2023-06-14T15:22:06.352139055Z",
     "start_time": "2023-06-14T15:22:03.694954485Z"
    }
   },
   "outputs": [],
   "source": [
    "import matplotlib.pyplot as plt\n",
    "\n",
    "from adaptive_dg.datasets import *\n",
    "from adaptive_dg.models import ResNetClassifier"
   ]
  },
  {
   "cell_type": "code",
   "execution_count": 2,
   "outputs": [
    {
     "data": {
      "text/plain": "{'max_epochs': int | None,\n 'batch_size': int,\n 'dataset': Choice('ColoredMNIST', 'RotatedMNIST', 'VLCS', 'PACS', 'Camelyon17', 'FMoWYear', 'FMoWRegion', 'OfficeHome', 'TerraIncognita', 'ProDASCondSatisfied', 'Kang'),\n 'set_size': int,\n 'id_domains': list,\n 'ood_domains': list,\n 'layer_widths': list[int]}"
     },
     "execution_count": 2,
     "metadata": {},
     "output_type": "execute_result"
    }
   ],
   "source": [
    "ResNetClassifier.hparams_type.required_parameters()"
   ],
   "metadata": {
    "collapsed": false,
    "ExecuteTime": {
     "end_time": "2023-06-14T15:22:06.361096186Z",
     "start_time": "2023-06-14T15:22:06.348773320Z"
    }
   }
  },
  {
   "cell_type": "code",
   "execution_count": 3,
   "outputs": [],
   "source": [
    "hparams = dict(\n",
    "    max_epochs=10,\n",
    "    batch_size=32,\n",
    "    set_size=16,\n",
    "    dataset=\"ColoredMNIST\",\n",
    "    id_domains=[\"L\", \"M\"],\n",
    "    ood_domains=[\"H\"],\n",
    "    layer_widths=[1024],\n",
    "    label=\"class\",\n",
    "    num_workers=10,\n",
    "    augment=False,\n",
    ")"
   ],
   "metadata": {
    "collapsed": false,
    "ExecuteTime": {
     "end_time": "2023-06-14T15:22:06.361559855Z",
     "start_time": "2023-06-14T15:22:06.354334519Z"
    }
   }
  },
  {
   "cell_type": "code",
   "execution_count": 4,
   "outputs": [
    {
     "name": "stdout",
     "output_type": "stream",
     "text": [
      "Found existing ColoredMNIST dataset in data, skipping download.\n"
     ]
    },
    {
     "name": "stderr",
     "output_type": "stream",
     "text": [
      "Using cache found in /home/lars/.cache/torch/hub/pytorch_vision_v0.10.0\n"
     ]
    }
   ],
   "source": [
    "model = ResNetClassifier(hparams)"
   ],
   "metadata": {
    "collapsed": false,
    "ExecuteTime": {
     "end_time": "2023-06-14T15:22:06.721199059Z",
     "start_time": "2023-06-14T15:22:06.403694114Z"
    }
   }
  },
  {
   "cell_type": "code",
   "execution_count": null,
   "outputs": [
    {
     "name": "stderr",
     "output_type": "stream",
     "text": [
      "GPU available: True (cuda), used: True\n",
      "TPU available: False, using: 0 TPU cores\n",
      "IPU available: False, using: 0 IPUs\n",
      "HPU available: False, using: 0 HPUs\n",
      "The following callbacks returned in `LightningModule.configure_callbacks` will override existing callbacks passed to Trainer: ModelCheckpoint\n",
      "LOCAL_RANK: 0 - CUDA_VISIBLE_DEVICES: [0]\n",
      "/home/lars/miniconda3/envs/rectifiers/lib/python3.10/site-packages/lightning/pytorch/trainer/connectors/data_connector.py:478: PossibleUserWarning: Your `val_dataloader`'s sampler has shuffling enabled, it is strongly recommended that you turn shuffling off for val/test dataloaders.\n",
      "  rank_zero_warn(\n"
     ]
    },
    {
     "data": {
      "text/plain": "Validation: 0it [00:00, ?it/s]",
      "application/vnd.jupyter.widget-view+json": {
       "version_major": 2,
       "version_minor": 0,
       "model_id": "904c528a495a4d8695da4e23b4e88660"
      }
     },
     "metadata": {},
     "output_type": "display_data"
    },
    {
     "data": {
      "text/plain": "┏━━━━━━━━━━━━━━━━━━━━━━━━━━━┳━━━━━━━━━━━━━━━━━━━━━━━━━━━┳━━━━━━━━━━━━━━━━━━━━━━━━━━━┳━━━━━━━━━━━━━━━━━━━━━━━━━━━┓\n┃\u001B[1m \u001B[0m\u001B[1m     Validate metric     \u001B[0m\u001B[1m \u001B[0m┃\u001B[1m \u001B[0m\u001B[1m      DataLoader 0       \u001B[0m\u001B[1m \u001B[0m┃\u001B[1m \u001B[0m\u001B[1m      DataLoader 1       \u001B[0m\u001B[1m \u001B[0m┃\u001B[1m \u001B[0m\u001B[1m      DataLoader 2       \u001B[0m\u001B[1m \u001B[0m┃\n┡━━━━━━━━━━━━━━━━━━━━━━━━━━━╇━━━━━━━━━━━━━━━━━━━━━━━━━━━╇━━━━━━━━━━━━━━━━━━━━━━━━━━━╇━━━━━━━━━━━━━━━━━━━━━━━━━━━┩\n│\u001B[36m \u001B[0m\u001B[36m   ood/class_accuracy    \u001B[0m\u001B[36m \u001B[0m│\u001B[35m \u001B[0m\u001B[35m                         \u001B[0m\u001B[35m \u001B[0m│\u001B[35m \u001B[0m\u001B[35m                         \u001B[0m\u001B[35m \u001B[0m│\u001B[35m \u001B[0m\u001B[35m   0.5096854567527771    \u001B[0m\u001B[35m \u001B[0m│\n│\u001B[36m \u001B[0m\u001B[36m   ood/class_f1_score    \u001B[0m\u001B[36m \u001B[0m│\u001B[35m \u001B[0m\u001B[35m                         \u001B[0m\u001B[35m \u001B[0m│\u001B[35m \u001B[0m\u001B[35m                         \u001B[0m\u001B[35m \u001B[0m│\u001B[35m \u001B[0m\u001B[35m   0.5096854567527771    \u001B[0m\u001B[35m \u001B[0m│\n│\u001B[36m \u001B[0m\u001B[36m    ood/cross_entropy    \u001B[0m\u001B[36m \u001B[0m│\u001B[35m \u001B[0m\u001B[35m                         \u001B[0m\u001B[35m \u001B[0m│\u001B[35m \u001B[0m\u001B[35m                         \u001B[0m\u001B[35m \u001B[0m│\u001B[35m \u001B[0m\u001B[35m   0.7081676125526428    \u001B[0m\u001B[35m \u001B[0m│\n│\u001B[36m \u001B[0m\u001B[36m        ood/loss         \u001B[0m\u001B[36m \u001B[0m│\u001B[35m \u001B[0m\u001B[35m                         \u001B[0m\u001B[35m \u001B[0m│\u001B[35m \u001B[0m\u001B[35m                         \u001B[0m\u001B[35m \u001B[0m│\u001B[35m \u001B[0m\u001B[35m   0.7081676125526428    \u001B[0m\u001B[35m \u001B[0m│\n│\u001B[36m \u001B[0m\u001B[36m   test/class_accuracy   \u001B[0m\u001B[36m \u001B[0m│\u001B[35m \u001B[0m\u001B[35m                         \u001B[0m\u001B[35m \u001B[0m│\u001B[35m \u001B[0m\u001B[35m   0.5171453356742859    \u001B[0m\u001B[35m \u001B[0m│\u001B[35m \u001B[0m\u001B[35m                         \u001B[0m\u001B[35m \u001B[0m│\n│\u001B[36m \u001B[0m\u001B[36m   test/class_f1_score   \u001B[0m\u001B[36m \u001B[0m│\u001B[35m \u001B[0m\u001B[35m                         \u001B[0m\u001B[35m \u001B[0m│\u001B[35m \u001B[0m\u001B[35m   0.5171453356742859    \u001B[0m\u001B[35m \u001B[0m│\u001B[35m \u001B[0m\u001B[35m                         \u001B[0m\u001B[35m \u001B[0m│\n│\u001B[36m \u001B[0m\u001B[36m   test/cross_entropy    \u001B[0m\u001B[36m \u001B[0m│\u001B[35m \u001B[0m\u001B[35m                         \u001B[0m\u001B[35m \u001B[0m│\u001B[35m \u001B[0m\u001B[35m   0.6939866542816162    \u001B[0m\u001B[35m \u001B[0m│\u001B[35m \u001B[0m\u001B[35m                         \u001B[0m\u001B[35m \u001B[0m│\n│\u001B[36m \u001B[0m\u001B[36m        test/loss        \u001B[0m\u001B[36m \u001B[0m│\u001B[35m \u001B[0m\u001B[35m                         \u001B[0m\u001B[35m \u001B[0m│\u001B[35m \u001B[0m\u001B[35m   0.6939866542816162    \u001B[0m\u001B[35m \u001B[0m│\u001B[35m \u001B[0m\u001B[35m                         \u001B[0m\u001B[35m \u001B[0m│\n│\u001B[36m \u001B[0m\u001B[36mvalidation/class_accuracy\u001B[0m\u001B[36m \u001B[0m│\u001B[35m \u001B[0m\u001B[35m    0.510501503944397    \u001B[0m\u001B[35m \u001B[0m│\u001B[35m \u001B[0m\u001B[35m                         \u001B[0m\u001B[35m \u001B[0m│\u001B[35m \u001B[0m\u001B[35m                         \u001B[0m\u001B[35m \u001B[0m│\n│\u001B[36m \u001B[0m\u001B[36mvalidation/class_f1_score\u001B[0m\u001B[36m \u001B[0m│\u001B[35m \u001B[0m\u001B[35m    0.510501503944397    \u001B[0m\u001B[35m \u001B[0m│\u001B[35m \u001B[0m\u001B[35m                         \u001B[0m\u001B[35m \u001B[0m│\u001B[35m \u001B[0m\u001B[35m                         \u001B[0m\u001B[35m \u001B[0m│\n│\u001B[36m \u001B[0m\u001B[36mvalidation/cross_entropy \u001B[0m\u001B[36m \u001B[0m│\u001B[35m \u001B[0m\u001B[35m   0.6951369047164917    \u001B[0m\u001B[35m \u001B[0m│\u001B[35m \u001B[0m\u001B[35m                         \u001B[0m\u001B[35m \u001B[0m│\u001B[35m \u001B[0m\u001B[35m                         \u001B[0m\u001B[35m \u001B[0m│\n│\u001B[36m \u001B[0m\u001B[36m     validation/loss     \u001B[0m\u001B[36m \u001B[0m│\u001B[35m \u001B[0m\u001B[35m   0.6951369047164917    \u001B[0m\u001B[35m \u001B[0m│\u001B[35m \u001B[0m\u001B[35m                         \u001B[0m\u001B[35m \u001B[0m│\u001B[35m \u001B[0m\u001B[35m                         \u001B[0m\u001B[35m \u001B[0m│\n└───────────────────────────┴───────────────────────────┴───────────────────────────┴───────────────────────────┘\n",
      "text/html": "<pre style=\"white-space:pre;overflow-x:auto;line-height:normal;font-family:Menlo,'DejaVu Sans Mono',consolas,'Courier New',monospace\">┏━━━━━━━━━━━━━━━━━━━━━━━━━━━┳━━━━━━━━━━━━━━━━━━━━━━━━━━━┳━━━━━━━━━━━━━━━━━━━━━━━━━━━┳━━━━━━━━━━━━━━━━━━━━━━━━━━━┓\n┃<span style=\"font-weight: bold\">      Validate metric      </span>┃<span style=\"font-weight: bold\">       DataLoader 0        </span>┃<span style=\"font-weight: bold\">       DataLoader 1        </span>┃<span style=\"font-weight: bold\">       DataLoader 2        </span>┃\n┡━━━━━━━━━━━━━━━━━━━━━━━━━━━╇━━━━━━━━━━━━━━━━━━━━━━━━━━━╇━━━━━━━━━━━━━━━━━━━━━━━━━━━╇━━━━━━━━━━━━━━━━━━━━━━━━━━━┩\n│<span style=\"color: #008080; text-decoration-color: #008080\">    ood/class_accuracy     </span>│<span style=\"color: #800080; text-decoration-color: #800080\">                           </span>│<span style=\"color: #800080; text-decoration-color: #800080\">                           </span>│<span style=\"color: #800080; text-decoration-color: #800080\">    0.5096854567527771     </span>│\n│<span style=\"color: #008080; text-decoration-color: #008080\">    ood/class_f1_score     </span>│<span style=\"color: #800080; text-decoration-color: #800080\">                           </span>│<span style=\"color: #800080; text-decoration-color: #800080\">                           </span>│<span style=\"color: #800080; text-decoration-color: #800080\">    0.5096854567527771     </span>│\n│<span style=\"color: #008080; text-decoration-color: #008080\">     ood/cross_entropy     </span>│<span style=\"color: #800080; text-decoration-color: #800080\">                           </span>│<span style=\"color: #800080; text-decoration-color: #800080\">                           </span>│<span style=\"color: #800080; text-decoration-color: #800080\">    0.7081676125526428     </span>│\n│<span style=\"color: #008080; text-decoration-color: #008080\">         ood/loss          </span>│<span style=\"color: #800080; text-decoration-color: #800080\">                           </span>│<span style=\"color: #800080; text-decoration-color: #800080\">                           </span>│<span style=\"color: #800080; text-decoration-color: #800080\">    0.7081676125526428     </span>│\n│<span style=\"color: #008080; text-decoration-color: #008080\">    test/class_accuracy    </span>│<span style=\"color: #800080; text-decoration-color: #800080\">                           </span>│<span style=\"color: #800080; text-decoration-color: #800080\">    0.5171453356742859     </span>│<span style=\"color: #800080; text-decoration-color: #800080\">                           </span>│\n│<span style=\"color: #008080; text-decoration-color: #008080\">    test/class_f1_score    </span>│<span style=\"color: #800080; text-decoration-color: #800080\">                           </span>│<span style=\"color: #800080; text-decoration-color: #800080\">    0.5171453356742859     </span>│<span style=\"color: #800080; text-decoration-color: #800080\">                           </span>│\n│<span style=\"color: #008080; text-decoration-color: #008080\">    test/cross_entropy     </span>│<span style=\"color: #800080; text-decoration-color: #800080\">                           </span>│<span style=\"color: #800080; text-decoration-color: #800080\">    0.6939866542816162     </span>│<span style=\"color: #800080; text-decoration-color: #800080\">                           </span>│\n│<span style=\"color: #008080; text-decoration-color: #008080\">         test/loss         </span>│<span style=\"color: #800080; text-decoration-color: #800080\">                           </span>│<span style=\"color: #800080; text-decoration-color: #800080\">    0.6939866542816162     </span>│<span style=\"color: #800080; text-decoration-color: #800080\">                           </span>│\n│<span style=\"color: #008080; text-decoration-color: #008080\"> validation/class_accuracy </span>│<span style=\"color: #800080; text-decoration-color: #800080\">     0.510501503944397     </span>│<span style=\"color: #800080; text-decoration-color: #800080\">                           </span>│<span style=\"color: #800080; text-decoration-color: #800080\">                           </span>│\n│<span style=\"color: #008080; text-decoration-color: #008080\"> validation/class_f1_score </span>│<span style=\"color: #800080; text-decoration-color: #800080\">     0.510501503944397     </span>│<span style=\"color: #800080; text-decoration-color: #800080\">                           </span>│<span style=\"color: #800080; text-decoration-color: #800080\">                           </span>│\n│<span style=\"color: #008080; text-decoration-color: #008080\"> validation/cross_entropy  </span>│<span style=\"color: #800080; text-decoration-color: #800080\">    0.6951369047164917     </span>│<span style=\"color: #800080; text-decoration-color: #800080\">                           </span>│<span style=\"color: #800080; text-decoration-color: #800080\">                           </span>│\n│<span style=\"color: #008080; text-decoration-color: #008080\">      validation/loss      </span>│<span style=\"color: #800080; text-decoration-color: #800080\">    0.6951369047164917     </span>│<span style=\"color: #800080; text-decoration-color: #800080\">                           </span>│<span style=\"color: #800080; text-decoration-color: #800080\">                           </span>│\n└───────────────────────────┴───────────────────────────┴───────────────────────────┴───────────────────────────┘\n</pre>\n"
     },
     "metadata": {},
     "output_type": "display_data"
    },
    {
     "name": "stderr",
     "output_type": "stream",
     "text": [
      "The following callbacks returned in `LightningModule.configure_callbacks` will override existing callbacks passed to Trainer: LearningRateMonitor, ModelCheckpoint\n",
      "LOCAL_RANK: 0 - CUDA_VISIBLE_DEVICES: [0]\n",
      "\n",
      "  | Name    | Type   | Params\n",
      "-----------------------------------\n",
      "0 | network | ResNet | 11.7 M\n",
      "-----------------------------------\n",
      "11.7 M    Trainable params\n",
      "0         Non-trainable params\n",
      "11.7 M    Total params\n",
      "46.815    Total estimated model params size (MB)\n"
     ]
    },
    {
     "data": {
      "text/plain": "Sanity Checking: 0it [00:00, ?it/s]",
      "application/vnd.jupyter.widget-view+json": {
       "version_major": 2,
       "version_minor": 0,
       "model_id": "d6729ced349f4a8c970a6f59d30505ac"
      }
     },
     "metadata": {},
     "output_type": "display_data"
    },
    {
     "data": {
      "text/plain": "Training: 0it [00:00, ?it/s]",
      "application/vnd.jupyter.widget-view+json": {
       "version_major": 2,
       "version_minor": 0,
       "model_id": "d34993a31db440e59cf463207be055c0"
      }
     },
     "metadata": {},
     "output_type": "display_data"
    },
    {
     "data": {
      "text/plain": "Validation: 0it [00:00, ?it/s]",
      "application/vnd.jupyter.widget-view+json": {
       "version_major": 2,
       "version_minor": 0,
       "model_id": "fcf6ae75e9a64ea0b9160abbfbc36762"
      }
     },
     "metadata": {},
     "output_type": "display_data"
    },
    {
     "data": {
      "text/plain": "Validation: 0it [00:00, ?it/s]",
      "application/vnd.jupyter.widget-view+json": {
       "version_major": 2,
       "version_minor": 0,
       "model_id": "a61be90006494e498674e3bce2c2929a"
      }
     },
     "metadata": {},
     "output_type": "display_data"
    },
    {
     "data": {
      "text/plain": "Validation: 0it [00:00, ?it/s]",
      "application/vnd.jupyter.widget-view+json": {
       "version_major": 2,
       "version_minor": 0,
       "model_id": "12ba65cc4f6f4afb9e755f0c158bda40"
      }
     },
     "metadata": {},
     "output_type": "display_data"
    },
    {
     "data": {
      "text/plain": "Validation: 0it [00:00, ?it/s]",
      "application/vnd.jupyter.widget-view+json": {
       "version_major": 2,
       "version_minor": 0,
       "model_id": "a5c01df2d3464ac09f50f6339ade48d2"
      }
     },
     "metadata": {},
     "output_type": "display_data"
    },
    {
     "data": {
      "text/plain": "Validation: 0it [00:00, ?it/s]",
      "application/vnd.jupyter.widget-view+json": {
       "version_major": 2,
       "version_minor": 0,
       "model_id": "6d1cdb4a85a2446f859e3204ae32e3cb"
      }
     },
     "metadata": {},
     "output_type": "display_data"
    }
   ],
   "source": [
    "model.fit()"
   ],
   "metadata": {
    "collapsed": false,
    "is_executing": true,
    "ExecuteTime": {
     "start_time": "2023-06-14T15:22:06.714903033Z"
    }
   }
  },
  {
   "cell_type": "code",
   "execution_count": null,
   "outputs": [],
   "source": [
    "mnist = ColoredMNIST(\"data\", download=False)"
   ],
   "metadata": {
    "collapsed": false,
    "is_executing": true
   }
  },
  {
   "cell_type": "code",
   "execution_count": null,
   "outputs": [],
   "source": [
    "list(mnist.all_domains)"
   ],
   "metadata": {
    "collapsed": false,
    "is_executing": true
   }
  },
  {
   "cell_type": "code",
   "execution_count": null,
   "outputs": [],
   "source": [
    "domain = model.train_data\n",
    "\n",
    "fig, axes = plt.subplots(10, 10, figsize=(8, 8))\n",
    "\n",
    "for i, ax in enumerate(axes.flat):\n",
    "    ax.imshow(domain[i][0].movedim(0, -1))\n",
    "    ax.set_axis_off()"
   ],
   "metadata": {
    "collapsed": false,
    "is_executing": true
   }
  },
  {
   "cell_type": "code",
   "execution_count": null,
   "outputs": [],
   "source": [],
   "metadata": {
    "collapsed": false,
    "is_executing": true
   }
  }
 ],
 "metadata": {
  "kernelspec": {
   "display_name": "Python 3",
   "language": "python",
   "name": "python3"
  },
  "language_info": {
   "codemirror_mode": {
    "name": "ipython",
    "version": 2
   },
   "file_extension": ".py",
   "mimetype": "text/x-python",
   "name": "python",
   "nbconvert_exporter": "python",
   "pygments_lexer": "ipython2",
   "version": "2.7.6"
  }
 },
 "nbformat": 4,
 "nbformat_minor": 0
}
