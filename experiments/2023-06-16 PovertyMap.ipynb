{
 "cells": [
  {
   "cell_type": "code",
   "execution_count": 1,
   "metadata": {
    "collapsed": true,
    "ExecuteTime": {
     "end_time": "2023-06-16T10:08:32.712494008Z",
     "start_time": "2023-06-16T10:08:31.263264628Z"
    }
   },
   "source": [
    "from adaptive_dg.models import DomainGeneralizer"
   ],
   "outputs": []
  },
  {
   "cell_type": "code",
   "execution_count": 2,
   "source": [
    "DomainGeneralizer.hparams_type.required_parameters()"
   ],
   "metadata": {
    "collapsed": false,
    "ExecuteTime": {
     "end_time": "2023-06-16T10:08:32.718416848Z",
     "start_time": "2023-06-16T10:08:32.716767121Z"
    }
   },
   "outputs": []
  },
  {
   "cell_type": "code",
   "execution_count": 11,
   "source": [
    "hparams = dict(\n",
    "    max_epochs=1,\n",
    "    batch_size=8,\n",
    "    set_size=4,\n",
    "    dataset=\"PovertyMapCountry\",\n",
    "    id_domains=[str(i) for i in range(16)],\n",
    "    ood_domains=[str(i) for i in range(16, 22)],\n",
    "    augment=False,\n",
    ")"
   ],
   "metadata": {
    "collapsed": false,
    "ExecuteTime": {
     "end_time": "2023-06-16T10:10:17.151390515Z",
     "start_time": "2023-06-16T10:10:17.150832771Z"
    }
   },
   "outputs": []
  },
  {
   "cell_type": "code",
   "execution_count": 12,
   "source": [
    "model = DomainGeneralizer(hparams)"
   ],
   "metadata": {
    "collapsed": false,
    "ExecuteTime": {
     "end_time": "2023-06-16T10:10:17.633960972Z",
     "start_time": "2023-06-16T10:10:17.581504581Z"
    }
   },
   "outputs": []
  },
  {
   "cell_type": "code",
   "execution_count": 13,
   "source": [
    "len(model.train_data), len(model.val_data), len(model.test_data), len(model.ood_data)"
   ],
   "metadata": {
    "collapsed": false,
    "ExecuteTime": {
     "end_time": "2023-06-16T10:10:18.145460172Z",
     "start_time": "2023-06-16T10:10:18.143319568Z"
    }
   },
   "outputs": []
  },
  {
   "cell_type": "code",
   "execution_count": 16,
   "source": [
    "img, img_set, label, domain = model.ood_data[0]\n",
    "\n",
    "img.shape, img_set.shape, label.shape, domain.shape"
   ],
   "metadata": {
    "collapsed": false,
    "ExecuteTime": {
     "end_time": "2023-06-16T10:10:54.558105634Z",
     "start_time": "2023-06-16T10:10:54.521547489Z"
    }
   },
   "outputs": []
  },
  {
   "cell_type": "code",
   "execution_count": 7,
   "source": [],
   "metadata": {
    "collapsed": false,
    "ExecuteTime": {
     "end_time": "2023-06-16T10:08:33.167841476Z",
     "start_time": "2023-06-16T10:08:33.166817582Z"
    }
   },
   "outputs": []
  }
 ],
 "metadata": {
  "kernelspec": {
   "display_name": "Python 3",
   "language": "python",
   "name": "python3"
  },
  "language_info": {
   "codemirror_mode": {
    "name": "ipython",
    "version": 2
   },
   "file_extension": ".py",
   "mimetype": "text/x-python",
   "name": "python",
   "nbconvert_exporter": "python",
   "pygments_lexer": "ipython2",
   "version": "2.7.6"
  }
 },
 "nbformat": 4,
 "nbformat_minor": 0
}
