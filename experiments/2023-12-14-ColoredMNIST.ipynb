{
 "cells": [
  {
   "cell_type": "code",
   "execution_count": 1,
   "metadata": {},
   "outputs": [],
   "source": [
    "import numpy as np\n",
    "import torch\n",
    "\n",
    "from adaptive_dg.evaluation.model_loading import load_model, load_losses, compute_best_metrics\n",
    "from adaptive_dg.evaluation.competence_scores import compute_model_scores, create_features, score_function_create"
   ]
  },
  {
   "cell_type": "code",
   "execution_count": null,
   "metadata": {},
   "outputs": [],
   "source": []
  },
  {
   "cell_type": "markdown",
   "metadata": {},
   "source": []
  },
  {
   "cell_type": "code",
   "execution_count": 2,
   "metadata": {},
   "outputs": [
    {
     "name": "stdout",
     "output_type": "stream",
     "text": [
      "Found existing ColoredMNIST dataset in data, skipping download.\n",
      "Found existing ColoredMNIST dataset in data, skipping download.\n",
      "Found existing ColoredMNIST dataset in data, skipping download.\n",
      "Found existing ColoredMNIST dataset in data, skipping download.\n",
      "Found existing ColoredMNIST dataset in data, skipping download.\n",
      "Found existing ColoredMNIST dataset in data, skipping download.\n",
      "Found existing ColoredMNIST dataset in data, skipping download.\n",
      "Found existing ColoredMNIST dataset in data, skipping download.\n",
      "Found existing ColoredMNIST dataset in data, skipping download.\n",
      "Found existing ColoredMNIST dataset in data, skipping download.\n",
      "Invariant [0.7278182744979859, 0.7312590956687928] [0.009374229215528518, 0.001784034562035086]\n",
      "Standar [0.8457351088523865, 0.10191137492656707] [0.0033897241806037735, 0.0029509026179080876]\n",
      "Set selection [0.8431700324148668, 0.7312590956687928] [0.00045089154821336194, 0.001784034562035086]\n",
      "Standard selection [0.8401614700705515, 0.13726693977711746] [0.003059429037085313, 0.0037124123039713134]\n"
     ]
    }
   ],
   "source": [
    "def compute_ood_coverage(model_class, domain, directory, data_set='BikeSharingSeason', threshold=0.95, seed=42,set_feature=True):\n",
    "    model = load_model(model_class, domain, directory, data_set=data_set, seed=seed)\n",
    "    scores_val, scores_id_test, scores_ood = compute_model_scores(model, set_feature=set_feature)\n",
    "\n",
    "    threshold = np.quantile(scores_val, threshold)\n",
    "    \n",
    "    mask_id_test = scores_id_test < threshold\n",
    "    cov_id = sum(mask_id_test) / len(mask_id_test)\n",
    "    mask_ood = scores_ood < threshold\n",
    "    cov_ood = sum(mask_ood) / len(mask_ood)\n",
    "    \n",
    "    return cov_id, cov_ood\n",
    "\n",
    "domain = \"H\"\n",
    "data_set = \"ColoredMNIST\"\n",
    "seeds = [42, 43, 44, 45, 46]\n",
    "invariant_model_metrics = [[], []]\n",
    "standard_model_metrics = [[], []]\n",
    "set_model_metrics = [[], []]\n",
    "\n",
    "set_model_metrics_selection = [[], []]\n",
    "standard_model_metrics_selection = [[], []]\n",
    "set_model_metrics_selection_alt = [[], []]\n",
    "\n",
    "threshold = 0.95\n",
    "for seed in seeds:\n",
    "    directory = \"mnist_exps/invariants/\"\n",
    "    model_class = 'PredYfromX'\n",
    "    \n",
    "    metric_invariant = compute_best_metrics(directory, data_set, domain, model_class, seed=seed, version=0)\n",
    "    invariant_model_metrics[0].append(metric_invariant[1])\n",
    "    invariant_model_metrics[1].append(metric_invariant[2])\n",
    "\n",
    "\n",
    "    directory = \"mnist_exps/log_exps/\"\n",
    "\n",
    "    model_class = 'PredYfromX'\n",
    "    cov_id_y, cov_ood_y= compute_ood_coverage(model_class, domain, directory, data_set=data_set, threshold=threshold, set_feature=False)\n",
    "    metric_std = compute_best_metrics(directory, data_set, domain, model_class, seed=seed, version=0)\n",
    "    standard_model_metrics[0].append(metric_std[1])\n",
    "    standard_model_metrics[1].append(metric_std[2])\n",
    "    standard_model_metrics_selection[0].append(cov_id_y*metric_std[1] + (1-cov_id_y)*metric_invariant[1])\n",
    "    standard_model_metrics_selection[1].append(cov_ood_y*metric_std[2] + (1-cov_ood_y)*metric_invariant[2])\n",
    "\n",
    "    model_class = 'PredYfromXSet'\n",
    "    cov_id_y_set, cov_ood_y_set = compute_ood_coverage(model_class, domain, directory, data_set=data_set, threshold=threshold, set_feature=True)\n",
    "    metric = compute_best_metrics(directory, data_set, domain, model_class, seed=seed, version=0)\n",
    "    set_model_metrics[0].append(metric[1])\n",
    "    set_model_metrics[1].append(metric[2])\n",
    "    set_model_metrics_selection[0].append(cov_id_y_set*metric[1] + (1-cov_id_y_set)*metric_invariant[1])   \n",
    "    set_model_metrics_selection[1].append(cov_ood_y_set*metric[2] + (1-cov_ood_y_set)*metric_invariant[2])\n",
    "    \n",
    "    set_model_metrics_selection_alt[0].append(cov_id_y_set*metric_std[1] + (1-cov_id_y_set)*metric_invariant[1])\n",
    "    set_model_metrics_selection_alt[1].append(cov_ood_y_set*metric_std[2] + (1-cov_ood_y_set)*metric_invariant[2])\n",
    "    \n",
    "    \n",
    "print('Invariant', [np.array(a).mean() for a in invariant_model_metrics], [np.array(a).std() for a in invariant_model_metrics])\n",
    "print(\"Standar\", [np.array(a).mean() for a in standard_model_metrics], [np.array(a).std() for a in standard_model_metrics])\n",
    "#print(\"Set\", [np.array(a).mean() for a in set_model_metrics], [np.array(a).std() for a in set_model_metrics])\n",
    "print(\"Set selection\", [np.array(a).mean() for a in set_model_metrics_selection], [np.array(a).std() for a in set_model_metrics_selection])\n",
    "print(\"Standard selection\",[np.array(a).mean() for a in standard_model_metrics_selection], [np.array(a).std() for a in standard_model_metrics_selection])\n",
    "#print(\"set alt\", [np.array(a).mean() for a in set_model_metrics_selection_alt], [np.array(a).std() for a in set_model_metrics_selection_alt])"
   ]
  },
  {
   "cell_type": "code",
   "execution_count": 5,
   "metadata": {},
   "outputs": [
    {
     "name": "stdout",
     "output_type": "stream",
     "text": [
      "Invariant [0.7278182744979859, 0.7312590956687928] [0.009374229215528518, 0.001784034562035086]\n",
      "Standar [0.8457351088523865, 0.10191137492656707] [0.0033897241806037735, 0.0029509026179080876]\n",
      "Set selection [0.8431700324148668, 0.7312590956687928] [0.00045089154821336194, 0.001784034562035086]\n",
      "Standard selection [0.8401614700705515, 0.13726693977711746] [0.003059429037085313, 0.0037124123039713134]\n"
     ]
    }
   ],
   "source": [
    "# Number might deviate slightly from paper results due to different run\n",
    "print('Invariant', [np.array(a).mean() for a in invariant_model_metrics], [np.array(a).std() for a in invariant_model_metrics])\n",
    "print(\"Standar\", [np.array(a).mean() for a in standard_model_metrics], [np.array(a).std() for a in standard_model_metrics])\n",
    "#print(\"Set\", [np.array(a).mean() for a in set_model_metrics], [np.array(a).std() for a in set_model_metrics])\n",
    "print(\"Set selection\", [np.array(a).mean() for a in set_model_metrics_selection], [np.array(a).std() for a in set_model_metrics_selection])\n",
    "print(\"Standard selection\",[np.array(a).mean() for a in standard_model_metrics_selection], [np.array(a).std() for a in standard_model_metrics_selection])"
   ]
  },
  {
   "cell_type": "code",
   "execution_count": null,
   "metadata": {},
   "outputs": [],
   "source": []
  }
 ],
 "metadata": {
  "kernelspec": {
   "display_name": "ad_dg2",
   "language": "python",
   "name": "python3"
  },
  "language_info": {
   "codemirror_mode": {
    "name": "ipython",
    "version": 3
   },
   "file_extension": ".py",
   "mimetype": "text/x-python",
   "name": "python",
   "nbconvert_exporter": "python",
   "pygments_lexer": "ipython3",
   "version": "3.10.13"
  },
  "orig_nbformat": 4
 },
 "nbformat": 4,
 "nbformat_minor": 2
}
