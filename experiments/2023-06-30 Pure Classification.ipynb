{
 "cells": [
  {
   "cell_type": "code",
   "execution_count": 1,
   "metadata": {
    "collapsed": true,
    "jupyter": {
     "outputs_hidden": true
    },
    "ExecuteTime": {
     "end_time": "2023-07-03T11:58:46.902799114Z",
     "start_time": "2023-07-03T11:58:44.121390312Z"
    }
   },
   "source": [
    "import torch\n",
    "\n",
    "from adaptive_dg.models.pure import ResnetClassifier, ResnetClassifierHParams"
   ],
   "outputs": []
  },
  {
   "cell_type": "code",
   "execution_count": 2,
   "metadata": {
    "collapsed": false,
    "jupyter": {
     "outputs_hidden": false
    },
    "ExecuteTime": {
     "end_time": "2023-07-03T11:59:36.930766283Z",
     "start_time": "2023-07-03T11:59:36.886031141Z"
    }
   },
   "source": [
    "ResnetClassifierHParams.required_parameters()"
   ],
   "outputs": []
  },
  {
   "cell_type": "code",
   "execution_count": 3,
   "metadata": {
    "collapsed": false,
    "jupyter": {
     "outputs_hidden": false
    },
    "ExecuteTime": {
     "end_time": "2023-07-03T11:59:38.028573127Z",
     "start_time": "2023-07-03T11:59:38.024280070Z"
    }
   },
   "source": [
    "hparams = dict(\n",
    "    max_epochs=1000,\n",
    "    batch_size=64,\n",
    "    accumulate_batches=1,\n",
    "    set_size=1,\n",
    "    dataset=\"Camelyon17\",\n",
    "    id_domains=\"0123\",\n",
    "    ood_domains=\"4\",\n",
    "    num_workers=12,\n",
    "    cache_size=15_000,\n",
    "    profiler=\"simple\",\n",
    "    lr_scheduler=dict(\n",
    "        name=\"OneCycleLR\",\n",
    "        max_lr=1e-3,\n",
    "        div_factor=10,\n",
    "        final_div_factor=1e3,\n",
    "    ),\n",
    "    gradient_clip=5.0,\n",
    ")\n",
    "\n",
    "hparams = ResnetClassifierHParams(**hparams)"
   ],
   "outputs": []
  },
  {
   "cell_type": "code",
   "execution_count": 4,
   "metadata": {
    "collapsed": false,
    "jupyter": {
     "outputs_hidden": false
    },
    "ExecuteTime": {
     "end_time": "2023-07-03T12:00:13.499641759Z",
     "start_time": "2023-07-03T11:59:40.094050973Z"
    }
   },
   "source": [
    "model = ResnetClassifier(hparams)"
   ],
   "outputs": []
  },
  {
   "cell_type": "code",
   "execution_count": null,
   "metadata": {
    "collapsed": false,
    "jupyter": {
     "outputs_hidden": false
    },
    "ExecuteTime": {
     "start_time": "2023-06-30T13:35:08.590477Z"
    }
   },
   "source": [
    "model.fit()"
   ],
   "outputs": []
  },
  {
   "cell_type": "code",
   "execution_count": 5,
   "source": [
    "model = ResnetClassifier.load_checkpoint(version=0)"
   ],
   "metadata": {
    "collapsed": false
   },
   "outputs": []
  },
  {
   "cell_type": "code",
   "execution_count": null,
   "source": [
    "import lightning\n",
    "trainer = lightning.Trainer(accelerator=\"cuda\", devices=1)\n",
    "trainer.validate(model)"
   ],
   "metadata": {
    "collapsed": false,
    "is_executing": true,
    "ExecuteTime": {
     "start_time": "2023-07-03T12:04:09.811243752Z"
    }
   },
   "outputs": []
  },
  {
   "cell_type": "code",
   "execution_count": null,
   "source": [],
   "metadata": {
    "collapsed": false
   },
   "outputs": []
  }
 ],
 "metadata": {
  "kernelspec": {
   "display_name": "Python 3 (ipykernel)",
   "language": "python",
   "name": "python3"
  },
  "language_info": {
   "codemirror_mode": {
    "name": "ipython",
    "version": 3
   },
   "file_extension": ".py",
   "mimetype": "text/x-python",
   "name": "python",
   "nbconvert_exporter": "python",
   "pygments_lexer": "ipython3",
   "version": "3.10.11"
  }
 },
 "nbformat": 4,
 "nbformat_minor": 4
}
