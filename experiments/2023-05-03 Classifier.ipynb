{
 "cells": [
  {
   "cell_type": "code",
   "execution_count": null,
   "metadata": {
    "collapsed": true,
    "ExecuteTime": {
     "start_time": "2023-05-04T15:55:26.509889Z",
     "end_time": "2023-05-04T15:55:28.507432Z"
    }
   },
   "outputs": [],
   "source": [
    "from torchsummary import summary\n",
    "\n",
    "from adaptive_dg.models import ConvolutionalClassifier, ConvolutionalClassifierHParams\n",
    "from adaptive_dg.models.networks import ConvolutionalNetworkHParams, FullyConnectedNetworkHParams\n",
    "from adaptive_dg.models.networks.convolutional import ConvolutionalBlockHParams"
   ]
  },
  {
   "cell_type": "code",
   "execution_count": null,
   "outputs": [],
   "source": [
    "ConvolutionalClassifierHParams.required_parameters()"
   ],
   "metadata": {
    "collapsed": false,
    "ExecuteTime": {
     "start_time": "2023-05-04T15:55:28.513373Z",
     "end_time": "2023-05-04T15:55:28.519553Z"
    },
    "pycharm": {
     "is_executing": true
    }
   }
  },
  {
   "cell_type": "code",
   "execution_count": null,
   "outputs": [],
   "source": [
    "ConvolutionalNetworkHParams.required_parameters()"
   ],
   "metadata": {
    "collapsed": false,
    "ExecuteTime": {
     "start_time": "2023-05-04T15:55:28.520982Z",
     "end_time": "2023-05-04T15:55:28.527398Z"
    },
    "pycharm": {
     "is_executing": true
    }
   }
  },
  {
   "cell_type": "code",
   "execution_count": null,
   "outputs": [],
   "source": [
    "ConvolutionalBlockHParams.required_parameters()"
   ],
   "metadata": {
    "collapsed": false,
    "ExecuteTime": {
     "start_time": "2023-05-04T15:55:28.527759Z",
     "end_time": "2023-05-04T15:55:28.562584Z"
    },
    "pycharm": {
     "is_executing": true
    }
   }
  },
  {
   "cell_type": "code",
   "execution_count": null,
   "outputs": [],
   "source": [
    "FullyConnectedNetworkHParams.required_parameters()"
   ],
   "metadata": {
    "collapsed": false,
    "ExecuteTime": {
     "start_time": "2023-05-04T15:55:28.574085Z",
     "end_time": "2023-05-04T15:55:28.582974Z"
    },
    "pycharm": {
     "is_executing": true
    }
   }
  },
  {
   "cell_type": "code",
   "execution_count": null,
   "outputs": [],
   "source": [
    "block_hparams=[\n",
    "    dict(\n",
    "        channels=[3, 4, 4],\n",
    "        kernel_sizes=[5, 5, 5],\n",
    "        padding=\"same\",\n",
    "    ),\n",
    "    dict(\n",
    "        channels=[4, 4, 4],\n",
    "        kernel_sizes=[5, 5, 5],\n",
    "        padding=\"same\",\n",
    "    ),\n",
    "    dict(\n",
    "        channels=[4, 8, 8],\n",
    "        kernel_sizes=[5, 5, 5],\n",
    "        padding=\"same\",\n",
    "    ),\n",
    "    dict(\n",
    "        channels=[8, 8, 8],\n",
    "        kernel_sizes=[5, 5, 5],\n",
    "        padding=\"same\",\n",
    "    ),\n",
    "    dict(\n",
    "        channels=[8, 16, 16],\n",
    "        kernel_sizes=[5, 5, 5],\n",
    "        padding=\"same\",\n",
    "    ),\n",
    "    dict(\n",
    "        channels=[16, 16, 16],\n",
    "        kernel_sizes=[5, 5, 5],\n",
    "        padding=\"same\",\n",
    "    ),\n",
    "    dict(\n",
    "        channels=[16, 32, 32],\n",
    "        kernel_sizes=[3, 3, 3],\n",
    "        padding=\"same\",\n",
    "    ),\n",
    "    dict(\n",
    "        channels=[32, 32, 32],\n",
    "        kernel_sizes=[3, 3, 3],\n",
    "        padding=\"same\",\n",
    "    ),\n",
    "    dict(\n",
    "        channels=[32, 64, 64],\n",
    "        kernel_sizes=[3, 3, 3],\n",
    "        padding=\"same\",\n",
    "    ),\n",
    "    dict(\n",
    "        channels=[64, 64, 64],\n",
    "        kernel_sizes=[3, 3, 3],\n",
    "        padding=\"same\",\n",
    "    ),\n",
    "    dict(\n",
    "        channels=[64, 128, 128],\n",
    "        kernel_sizes=[3, 3, 3],\n",
    "        padding=\"same\",\n",
    "    ),\n",
    "    dict(\n",
    "        channels=[128, 128, 128],\n",
    "        kernel_sizes=[3, 3, 3],\n",
    "        padding=\"same\",\n",
    "    ),\n",
    "    dict(\n",
    "        channels=[128, 256, 256],\n",
    "        kernel_sizes=[1, 1, 1],\n",
    "        padding=\"same\",\n",
    "    ),\n",
    "    dict(\n",
    "        channels=[256, 256, 256],\n",
    "        kernel_sizes=[1, 1, 1],\n",
    "        padding=\"same\",\n",
    "    ),\n",
    "]"
   ],
   "metadata": {
    "collapsed": false,
    "ExecuteTime": {
     "start_time": "2023-05-04T15:55:28.574168Z",
     "end_time": "2023-05-04T15:55:28.583202Z"
    },
    "pycharm": {
     "is_executing": true
    }
   }
  },
  {
   "cell_type": "code",
   "execution_count": null,
   "outputs": [],
   "source": [
    "block_hparams = [ConvolutionalBlockHParams(**hparams) for hparams in block_hparams]"
   ],
   "metadata": {
    "collapsed": false,
    "ExecuteTime": {
     "start_time": "2023-05-04T15:55:28.574247Z",
     "end_time": "2023-05-04T15:55:28.583295Z"
    },
    "pycharm": {
     "is_executing": true
    }
   }
  },
  {
   "cell_type": "code",
   "execution_count": null,
   "outputs": [],
   "source": [
    "conv_hparams = dict(\n",
    "    block_hparams=block_hparams,\n",
    ")"
   ],
   "metadata": {
    "collapsed": false,
    "ExecuteTime": {
     "start_time": "2023-05-04T15:55:28.574303Z",
     "end_time": "2023-05-04T15:55:28.583380Z"
    },
    "pycharm": {
     "is_executing": true
    }
   }
  },
  {
   "cell_type": "code",
   "execution_count": null,
   "outputs": [],
   "source": [
    "fc_hparams = dict(\n",
    "    input_dims=\"lazy\",\n",
    "    output_dims=4,\n",
    "    layer_widths=[1024, 512, 256, 128],\n",
    ")"
   ],
   "metadata": {
    "collapsed": false,
    "ExecuteTime": {
     "start_time": "2023-05-04T15:55:28.574358Z",
     "end_time": "2023-05-04T15:55:28.583463Z"
    },
    "pycharm": {
     "is_executing": true
    }
   }
  },
  {
   "cell_type": "code",
   "execution_count": null,
   "outputs": [],
   "source": [
    "hparams = dict(\n",
    "    max_epochs=100,\n",
    "    batch_size=128,\n",
    "    conv_hparams=conv_hparams,\n",
    "    fc_hparams=fc_hparams,\n",
    "    dataset=\"OfficeHome\",\n",
    "    id_domains=[\"A\", \"C\", \"P\"],\n",
    "    ood_domains=[\"R\"],\n",
    "    domains=[\"A\", \"C\", \"P\", \"R\"],\n",
    "    input_shape=(),  # TODO: remove this dummy variable\n",
    ")"
   ],
   "metadata": {
    "collapsed": false,
    "ExecuteTime": {
     "start_time": "2023-05-04T15:55:28.574463Z",
     "end_time": "2023-05-04T15:55:28.583544Z"
    },
    "pycharm": {
     "is_executing": true
    }
   }
  },
  {
   "cell_type": "code",
   "execution_count": null,
   "outputs": [],
   "source": [
    "model = ConvolutionalClassifier(hparams)"
   ],
   "metadata": {
    "collapsed": false,
    "ExecuteTime": {
     "start_time": "2023-05-04T15:55:28.574521Z",
     "end_time": "2023-05-04T15:55:29.273072Z"
    },
    "pycharm": {
     "is_executing": true
    }
   }
  },
  {
   "cell_type": "code",
   "execution_count": null,
   "outputs": [],
   "source": [
    "summary(model)"
   ],
   "metadata": {
    "collapsed": false,
    "ExecuteTime": {
     "start_time": "2023-05-04T15:55:29.280382Z",
     "end_time": "2023-05-04T15:55:29.327733Z"
    },
    "pycharm": {
     "is_executing": true
    }
   }
  },
  {
   "cell_type": "code",
   "execution_count": null,
   "outputs": [],
   "source": [
    "model.fit()"
   ],
   "metadata": {
    "collapsed": false,
    "is_executing": true,
    "ExecuteTime": {
     "start_time": "2023-05-03T20:23:29.101219853Z"
    },
    "pycharm": {
     "is_executing": true
    }
   }
  },
  {
   "cell_type": "code",
   "execution_count": null,
   "outputs": [],
   "source": [],
   "metadata": {
    "collapsed": false,
    "is_executing": true,
    "pycharm": {
     "is_executing": true
    }
   }
  }
 ],
 "metadata": {
  "kernelspec": {
   "display_name": "Python 3",
   "language": "python",
   "name": "python3"
  },
  "language_info": {
   "codemirror_mode": {
    "name": "ipython",
    "version": 2
   },
   "file_extension": ".py",
   "mimetype": "text/x-python",
   "name": "python",
   "nbconvert_exporter": "python",
   "pygments_lexer": "ipython2",
   "version": "2.7.6"
  }
 },
 "nbformat": 4,
 "nbformat_minor": 0
}
