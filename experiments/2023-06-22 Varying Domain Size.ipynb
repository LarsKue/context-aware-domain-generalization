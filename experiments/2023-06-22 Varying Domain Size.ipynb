{
 "cells": [
  {
   "cell_type": "code",
   "execution_count": 7,
   "metadata": {
    "collapsed": true,
    "ExecuteTime": {
     "end_time": "2023-06-27T14:52:12.223646257Z",
     "start_time": "2023-06-27T14:52:12.180842459Z"
    }
   },
   "source": [
    "from adaptive_dg.models import AllInOne"
   ],
   "outputs": []
  },
  {
   "cell_type": "code",
   "execution_count": 8,
   "source": [
    "AllInOne.hparams_type.parameters()"
   ],
   "metadata": {
    "collapsed": false,
    "ExecuteTime": {
     "end_time": "2023-06-27T14:52:13.896885325Z",
     "start_time": "2023-06-27T14:52:13.890397112Z"
    }
   },
   "outputs": []
  },
  {
   "cell_type": "code",
   "execution_count": 9,
   "source": [
    "hparams = dict(\n",
    "    max_epochs=250,\n",
    "    batch_size=32,\n",
    "    set_size=8,\n",
    "    accumulate_batches=1,\n",
    "    dataset=\"Camelyon17\",\n",
    "    id_domains=\"0123\",\n",
    "    ood_domains=\"4\",\n",
    "    num_workers=8,\n",
    "    gradient_clip=2.0,\n",
    "    gradient_clip_algorithm=\"value\",\n",
    "    classifier_hparams=dict(\n",
    "        activation=\"ReLU\",\n",
    "        output_dim=512,\n",
    "    ),\n",
    "    featurizer_hparams=dict(\n",
    "        name=\"Clip\",\n",
    "        output_dim=512,\n",
    "    ),\n",
    "    encoder_hparams=dict(\n",
    "        latent_dim=256,\n",
    "        layer_width=256,\n",
    "        name=\"Standard\",\n",
    "        output_dim=256,\n",
    "        p=0.4,\n",
    "    ),\n",
    "    feature_train=False,\n",
    "    loss_fct=\"cross_entropy\",\n",
    "    optimizer=dict(\n",
    "        name=\"Adam\",\n",
    "        lr=1e-4,\n",
    "        weight_decay=1e-6,\n",
    "    ),\n",
    "    lr_scheduler=dict(\n",
    "        name=\"OneCycleLR\",\n",
    "        max_lr=1e-3,\n",
    "        div_factor=10,\n",
    "        final_div_factor=1000,\n",
    "    ),\n",
    ")"
   ],
   "metadata": {
    "collapsed": false,
    "ExecuteTime": {
     "end_time": "2023-06-27T14:52:14.466152575Z",
     "start_time": "2023-06-27T14:52:14.460360432Z"
    }
   },
   "outputs": []
  },
  {
   "cell_type": "code",
   "execution_count": 10,
   "source": [
    "model = AllInOne(hparams)"
   ],
   "metadata": {
    "collapsed": false,
    "ExecuteTime": {
     "end_time": "2023-06-27T14:52:19.471292609Z",
     "start_time": "2023-06-27T14:52:15.116572696Z"
    }
   },
   "outputs": []
  },
  {
   "cell_type": "code",
   "execution_count": 11,
   "source": [
    "model"
   ],
   "metadata": {
    "collapsed": false,
    "ExecuteTime": {
     "end_time": "2023-06-27T14:52:20.652844183Z",
     "start_time": "2023-06-27T14:52:20.646088321Z"
    }
   },
   "outputs": []
  },
  {
   "cell_type": "code",
   "execution_count": 12,
   "source": [
    "model.fit()"
   ],
   "metadata": {
    "collapsed": false
   },
   "outputs": []
  },
  {
   "cell_type": "code",
   "execution_count": null,
   "source": [],
   "metadata": {
    "collapsed": false
   },
   "outputs": []
  }
 ],
 "metadata": {
  "kernelspec": {
   "display_name": "Python 3",
   "language": "python",
   "name": "python3"
  },
  "language_info": {
   "codemirror_mode": {
    "name": "ipython",
    "version": 2
   },
   "file_extension": ".py",
   "mimetype": "text/x-python",
   "name": "python",
   "nbconvert_exporter": "python",
   "pygments_lexer": "ipython2",
   "version": "2.7.6"
  }
 },
 "nbformat": 4,
 "nbformat_minor": 0
}
